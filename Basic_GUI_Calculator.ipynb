{
 "cells": [
  {
   "cell_type": "code",
   "execution_count": null,
   "id": "33c90fdd-8219-4a9c-bbbc-b66a9f34a4b6",
   "metadata": {},
   "outputs": [],
   "source": [
    "import tkinter as tk\n",
    "root=tk.Tk()\n",
    "root.title(\"Simple Calculator\")\n",
    "root.attributes('-fullscreen', True)\n",
    "root.geometry(\"300x400\")\n",
    "entry = tk.Entry(root,width=16,font = ('Arial',24),borderwidth = '2',relief = 'solid',justify = 'right')\n",
    "entry.grid(row= 0,column = 0,columnspan = 4,padx = 10,pady = 10)\n",
    "\n",
    "def click(button_text):\n",
    "    current = entry.get()\n",
    "    entry.delete(0,tk.END)\n",
    "    entry.insert(0,current+button_text)\n",
    "\n",
    "def clear():\n",
    "    entry.delete(0,tk.END)\n",
    "\n",
    "\n",
    "def calculate():\n",
    "    try:\n",
    "        result = str(eval(entry.get()))\n",
    "        entry.delete(0,tk.END)\n",
    "        entry.insert(0,result)\n",
    "\n",
    "    except Exception:\n",
    "        entry.delete(0,tk.END)\n",
    "        entry.insert(0,\"Error\")\n",
    "\n",
    "buttons = [\n",
    "    ('7','8','9','/'),\n",
    "    ('4','5','6','*'),\n",
    "    ('1','2','3','-'),\n",
    "    ('0','.','=','+'),\n",
    "]\n",
    "for i, row in enumerate(buttons):\n",
    "    for j, text in enumerate(row):\n",
    "        if text == '=':\n",
    "            btn = tk.Button(root, text=text, width=5, height=2, font=('Arial', 18), command=calculate)\n",
    "        else:\n",
    "            btn = tk.Button(root, text=text, width=5, height=2, font=('Arial', 18), command=lambda t=text: click(t))\n",
    "        btn.grid(row=i+1, column=j, padx=5, pady=5)\n",
    "\n",
    "clear_btn = tk.Button(root, text=\"C\", width=22, height=2, font=('Arial', 18), command=clear)\n",
    "clear_btn.grid(row=5, column=0, columnspan=4, padx=5, pady=5)\n",
    "\n",
    "# Run the application\n",
    "root.mainloop()\n",
    "\n"
   ]
  },
  {
   "cell_type": "code",
   "execution_count": null,
   "id": "8b9cf667-79d7-4bb2-bcff-2c446e566320",
   "metadata": {},
   "outputs": [],
   "source": []
  }
 ],
 "metadata": {
  "kernelspec": {
   "display_name": "Python 3 (ipykernel)",
   "language": "python",
   "name": "python3"
  },
  "language_info": {
   "codemirror_mode": {
    "name": "ipython",
    "version": 3
   },
   "file_extension": ".py",
   "mimetype": "text/x-python",
   "name": "python",
   "nbconvert_exporter": "python",
   "pygments_lexer": "ipython3",
   "version": "3.13.2"
  }
 },
 "nbformat": 4,
 "nbformat_minor": 5
}
