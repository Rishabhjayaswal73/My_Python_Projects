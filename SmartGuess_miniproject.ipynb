{
 "cells": [
  {
   "cell_type": "code",
   "execution_count": null,
   "id": "6bace55f-8815-4eaf-9f9d-0d69e5070e39",
   "metadata": {},
   "outputs": [
    {
     "name": "stdout",
     "output_type": "stream",
     "text": [
      "is your number(guess)?\n"
     ]
    },
    {
     "name": "stdin",
     "output_type": "stream",
     "text": [
      "Enter 'h' if the number is higher,'l' if the number is lower,c if i guessed correctly: h\n"
     ]
    },
    {
     "name": "stdout",
     "output_type": "stream",
     "text": [
      "is your number(guess)?\n"
     ]
    },
    {
     "name": "stdin",
     "output_type": "stream",
     "text": [
      "Enter 'h' if the number is higher,'l' if the number is lower,c if i guessed correctly: c\n"
     ]
    },
    {
     "name": "stdout",
     "output_type": "stream",
     "text": [
      "I guessed the number75 in 2 attempts!\n",
      "is your number(guess)?\n"
     ]
    },
    {
     "name": "stdin",
     "output_type": "stream",
     "text": [
      "Enter 'h' if the number is higher,'l' if the number is lower,c if i guessed correctly: c\n"
     ]
    },
    {
     "name": "stdout",
     "output_type": "stream",
     "text": [
      "I guessed the number75 in 3 attempts!\n",
      "is your number(guess)?\n"
     ]
    }
   ],
   "source": [
    "import random\n",
    "\n",
    "low = 0\n",
    "high = 100\n",
    "guess = 0\n",
    "attempts = 0\n",
    "\n",
    "\n",
    "while True:\n",
    "    guess = (low+high)//2\n",
    "    attempts += 1\n",
    "\n",
    "    print(f\"is your number{guess}?\")\n",
    "    user_input = input(\"Enter 'h' if the number is higher,'l' if the number is lower,c if i guessed correctly:\").lower()\n",
    "\n",
    "\n",
    "    if user_input == 'c':\n",
    "        print(f\"I guessed the number{guess} in {attempts} attempts!\")\n",
    "\n",
    "    elif user_input == 'h':\n",
    "        low = guess+1\n",
    "\n",
    "    elif user_input == 'l':\n",
    "        high = guess-1\n",
    "    else:\n",
    "        print(\"Inavlid input ! please enter 'h','c' or 'l'.\")"
   ]
  },
  {
   "cell_type": "code",
   "execution_count": null,
   "id": "8eea8570-ce81-4678-97fb-716f7546997f",
   "metadata": {},
   "outputs": [],
   "source": []
  }
 ],
 "metadata": {
  "kernelspec": {
   "display_name": "Python 3 (ipykernel)",
   "language": "python",
   "name": "python3"
  },
  "language_info": {
   "codemirror_mode": {
    "name": "ipython",
    "version": 3
   },
   "file_extension": ".py",
   "mimetype": "text/x-python",
   "name": "python",
   "nbconvert_exporter": "python",
   "pygments_lexer": "ipython3",
   "version": "3.13.2"
  }
 },
 "nbformat": 4,
 "nbformat_minor": 5
}
