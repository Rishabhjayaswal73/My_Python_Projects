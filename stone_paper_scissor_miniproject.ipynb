{
 "cells": [
  {
   "cell_type": "code",
   "execution_count": null,
   "id": "7944287c-4f63-41f7-b58b-a2d97a88cf2f",
   "metadata": {},
   "outputs": [],
   "source": [
    "import random\n",
    "\n",
    "computer = random.choice([1,0,-1])\n",
    "\n",
    "yourstr = input(\"Enter your choice from (s,p,S):\")\n",
    "youdict = {\"s\":1,\"p\":0,\"S\":-1}\n",
    "reversedict= {1:\"stone\",0:\"paper\",-1:\"seasor\"}\n",
    "\n",
    "you = youdict[yourstr]\n",
    "\n",
    "print(f\"You choose {reversedict[you]} \\n Computer choose {reversedict[computer]}\")\n",
    "\n",
    "if you == computer:\n",
    "    print(\"it's draw!\")\n",
    "else:\n",
    "    if(computer == 1 and you == 0):\n",
    "        print(\"You win!\")\n",
    "    elif(computer == 1 and you == -1):\n",
    "        print(\"Computer wins!\")\n",
    "    elif(computer == 0 and you == 1):\n",
    "        print(\"Computer wins!\")\n",
    "    elif(computer == 0 and you == -1):\n",
    "        print(\"You win!\")\n",
    "    elif(computer == -1 and you == 1):\n",
    "        print(\"You win!\")\n",
    "    elif(computer == -1 and you == 0):\n",
    "        print(\"Computer wins!\")\n",
    "    else:\n",
    "        print(\"Something went wrong!\")\n",
    "        "
   ]
  },
  {
   "cell_type": "code",
   "execution_count": null,
   "id": "e021d360-2720-4010-9e1d-5deef3e55018",
   "metadata": {},
   "outputs": [],
   "source": []
  }
 ],
 "metadata": {
  "kernelspec": {
   "display_name": "Python 3 (ipykernel)",
   "language": "python",
   "name": "python3"
  },
  "language_info": {
   "codemirror_mode": {
    "name": "ipython",
    "version": 3
   },
   "file_extension": ".py",
   "mimetype": "text/x-python",
   "name": "python",
   "nbconvert_exporter": "python",
   "pygments_lexer": "ipython3",
   "version": "3.13.2"
  }
 },
 "nbformat": 4,
 "nbformat_minor": 5
}
